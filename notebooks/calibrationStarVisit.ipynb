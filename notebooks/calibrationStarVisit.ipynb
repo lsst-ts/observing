{
 "cells": [
  {
   "cell_type": "code",
   "execution_count": null,
   "metadata": {},
   "outputs": [],
   "source": [
    "import os\n",
    "import sys\n",
    "import asyncio\n",
    "import logging\n",
    "import time\n",
    "\n",
    "import numpy as np\n",
    "\n",
    "from lsst.ts.standardscripts.auxtel.attcs import ATTCS\n",
    "from lsst.ts.standardscripts.auxtel.latiss import LATISS\n",
    "\n",
    "import lsst.observing.utils.focus\n",
    "from lsst.observing.constants import (boreSight, sweetSpots, gratingOffsets,\n",
    "                                      dFocusDthickness, glassThicknesses, plateScale)\n",
    "from lsst.observing.utils.misc import parseObsId\n",
    "from lsst.observing.utils.audio import playSound\n",
    "from lsst.observing.utils.offsets import findOffsetsAndMove\n",
    "from lsst.observing.utils.filters import getFilterAndGrating, changeFilterAndGrating"
   ]
  },
  {
   "cell_type": "markdown",
   "metadata": {},
   "source": [
    "Make sure that logs aren't lost"
   ]
  },
  {
   "cell_type": "code",
   "execution_count": null,
   "metadata": {},
   "outputs": [],
   "source": [
    "stream_handler = logging.StreamHandler(sys.stdout)\n",
    "logger = logging.getLogger()\n",
    "logger.addHandler(stream_handler)\n",
    "logger.level = logging.ERROR"
   ]
  },
  {
   "cell_type": "code",
   "execution_count": null,
   "metadata": {},
   "outputs": [],
   "source": [
    "if True:\n",
    "    attcs = ATTCS()\n",
    "    latiss = LATISS(attcs.domain)"
   ]
  },
  {
   "cell_type": "markdown",
   "metadata": {},
   "source": [
    "Execute this cell if you want to pass `display=display` to `findOffsetsAndMove`"
   ]
  },
  {
   "cell_type": "code",
   "execution_count": null,
   "metadata": {},
   "outputs": [],
   "source": [
    "if False:\n",
    "    import os\n",
    "    import lsst.afw.display as afwDisplay\n",
    "\n",
    "    afwDisplay.setDefaultBackend(\"matplotlib\" if False else \"firefly\")\n",
    "    os.environ['FIREFLY_URL'] = \"http://firefly01.cp.lsst.org:8080/firefly/\"\n",
    "\n",
    "    display = afwDisplay.Display(1, name='RHL', reopenPlot=True)\n",
    "\n",
    "    display.getClient().display_url()"
   ]
  },
  {
   "cell_type": "code",
   "execution_count": null,
   "metadata": {},
   "outputs": [],
   "source": [
    "for repo in [\"/mnt/dmcs/oods_butler_repo/repo\",\n",
    "             \"/project/shared/auxTel\",\n",
    "             os.path.expanduser(\"~/Data/auxTel\" \"XX\"),\n",
    "            ]:\n",
    "    if os.path.exists(repo):\n",
    "        break\n",
    "\n",
    "print(f\"Using {repo}\")  \n",
    "repo = os.path.join(repo, \"rerun\", \"quickLook\")\n",
    "\n",
    "if os.path.exists(repo):\n",
    "    from lsst.daf.persistence import Butler\n",
    "else:\n",
    "    print(f\"I can't find {repo}; using butler emulator\")\n",
    "    from lsst.ts.standardscripts.auxtel.butler import Butler\n",
    "    \n",
    "    latiss.domain.time_per_second = 0.0\n",
    "\n",
    "butler = Butler(repo)\n",
    "dataId = dict(dayObs=\"2020-02-21\")"
   ]
  },
  {
   "cell_type": "code",
   "execution_count": null,
   "metadata": {},
   "outputs": [],
   "source": [
    "repo = \"/mnt/dmcs/oods_butler_repo/repo/rerun/quickLook\"\n",
    "\n",
    "if os.path.exists(repo):\n",
    "    from lsst.daf.persistence import Butler\n",
    "else:\n",
    "    print(f\"I can't find {repo}; using emulator\")\n",
    "    from lsst.ts.standardscripts.auxtel.butler import Butler\n",
    "    \n",
    "    latiss.domain.time_per_second = 0.0\n",
    "\n",
    "butler = Butler(repo)\n",
    "dataId = dict(dayObs=\"2020-02-21\")"
   ]
  },
  {
   "cell_type": "markdown",
   "metadata": {},
   "source": [
    "<HR>\n",
    "\n",
    "Master options.  Will be arguments some day"
   ]
  },
  {
   "cell_type": "code",
   "execution_count": null,
   "metadata": {},
   "outputs": [],
   "source": [
    "if True:\n",
    "    objectName = \"HD 185975\"    # pole\n",
    "else:\n",
    "    objectName = \"HD 146233\"\n",
    "\n",
    "chosenGrating = 'ronchi90lpmm'  # the grating to use\n",
    "\n",
    "doPointingModel = True\n",
    "expTime0 = 1.0                 # initial guess at the unit of exposure time\n",
    "\n",
    "lsst.observing.utils.focus.myFocusOffset = None"
   ]
  },
  {
   "cell_type": "markdown",
   "metadata": {},
   "source": [
    "From https://confluence.lsstcorp.org/display/LSSTCOM/2020-02-20\n",
    "\n",
    "- a. Slew to object with Parallactic compensation on "
   ]
  },
  {
   "cell_type": "code",
   "execution_count": null,
   "metadata": {},
   "outputs": [],
   "source": [
    "pa_angs = [0, -180]\n",
    "\n",
    "for i, pa_ang in enumerate(pa_angs):\n",
    "    try:\n",
    "        await asyncio.gather(\n",
    "            attcs.slew_object(name=objectName, pa_ang=pa_ang, slew_timeout=240),\n",
    "            latiss.setup_atspec(grating='empty_1', filter='empty_1'),\n",
    "        )\n",
    "    except Exception as e:\n",
    "        if i == 0:\n",
    "            print(f\"Failed to go to {pa_ang} ({e}); trying {pa_angs[1]}\")\n",
    "        else:\n",
    "            raise\n",
    "    else:\n",
    "        print(f\"pa = {pa_ang}\")\n",
    "        break\n",
    "\n",
    "playSound()"
   ]
  },
  {
   "cell_type": "markdown",
   "metadata": {},
   "source": [
    "We are now nominally at the boresight.  We need to check this if we're updating the pointing model"
   ]
  },
  {
   "cell_type": "markdown",
   "metadata": {},
   "source": [
    "if `doPointingModel` is true:\n",
    "\n",
    "- b. take test image, determine offset to boresight\n",
    "- c. sanity-check the computed offsets\n",
    "- d. do x,y offset to center object at boresight"
   ]
  },
  {
   "cell_type": "code",
   "execution_count": null,
   "metadata": {},
   "outputs": [],
   "source": [
    "if doPointingModel:\n",
    "    targetPosition = boreSight\n",
    "\n",
    "    retvals = await asyncio.gather(\n",
    "        findOffsetsAndMove(attcs, targetPosition, latiss, dataId=None, butler=butler,\n",
    "                           doMove=True, alwaysAcceptMove=True),\n",
    "        latiss.take_object(exptime=expTime0, n=1),\n",
    "    )\n",
    "    exp, dx, dy, peakVal = retvals[0]\n",
    "    \n",
    "    print(f\"Peak: {peakVal}\")\n",
    "    playSound()"
   ]
  },
  {
   "cell_type": "markdown",
   "metadata": {},
   "source": [
    "if `doPointingModel` is true:\n",
    "\n",
    "- d'. Check that we're at the boresight"
   ]
  },
  {
   "cell_type": "code",
   "execution_count": null,
   "metadata": {},
   "outputs": [],
   "source": [
    "if doPointingModel:\n",
    "    await latiss.take_object(exptime=expTime0, n=1)\n",
    "    \n",
    "    playSound()"
   ]
  },
  {
   "cell_type": "markdown",
   "metadata": {},
   "source": [
    "e. update pointing model\n",
    "\n",
    "N.b. If `doPointingModel` and we don't have a pointing model, exec the next cell"
   ]
  },
  {
   "cell_type": "code",
   "execution_count": null,
   "metadata": {},
   "outputs": [],
   "source": [
    "if False:\n",
    "    await attcs.atptg.cmd_pointNewFile.start()"
   ]
  },
  {
   "cell_type": "code",
   "execution_count": null,
   "metadata": {},
   "outputs": [],
   "source": [
    "if doPointingModel:\n",
    "    await attcs.atptg.cmd_pointAddData.start()"
   ]
  },
  {
   "cell_type": "markdown",
   "metadata": {},
   "source": [
    "Done with pointing model.\n",
    "\n",
    "Offset to sweet spot with grating correction (so the star will be in the wrong place as we don't have\n",
    "a grating in)"
   ]
  },
  {
   "cell_type": "markdown",
   "metadata": {},
   "source": [
    "f. take a test exposure and check flux levels, determine best exptime for `chosenGrating`\n",
    "\n",
    "N.b. update expTime0 -- need code to find peak flux in object"
   ]
  },
  {
   "cell_type": "code",
   "execution_count": null,
   "metadata": {},
   "outputs": [],
   "source": [
    "targetPosition = sweetSpots[chosenGrating]\n",
    "\n",
    "retvals = await asyncio.gather(\n",
    "    findOffsetsAndMove(attcs, targetPosition, latiss, dataId=None, butler=butler, \n",
    "                       doMove=True, alwaysAcceptMove=True, display=None),\n",
    "    latiss.take_object(exptime=expTime0, n=1, grating=chosenGrating),\n",
    ")\n",
    "exp, dx, dy, peakVal = retvals[0]\n",
    "print(f\"Peak = {peakVal:0f}\")\n",
    "\n",
    "playSound()"
   ]
  },
  {
   "cell_type": "markdown",
   "metadata": {},
   "source": [
    "Run focus sweep and measure desired focus offset"
   ]
  },
  {
   "cell_type": "code",
   "execution_count": null,
   "metadata": {},
   "outputs": [],
   "source": [
    "while True:\n",
    "    reply = input(\"What is the best focus offset for the current configuration (mm)? \")\n",
    "    try:\n",
    "        focus_offset = float(reply)\n",
    "    except Exception as e:\n",
    "        print(f\"Error ({e}).  Please try again:\")\n",
    "    else:\n",
    "        break\n",
    "\n",
    "if False:\n",
    "    attcs.athexapod.evt_positionUpdate.flush()\n",
    "else:\n",
    "    await asyncio.sleep(5)\n",
    "\n",
    "await attcs.ataos.cmd_applyFocusOffset.set_start(offset=focus_offset) \n",
    "await attcs.athexapod.evt_positionUpdate.next(flush=False, timeout=attcs.long_timeout)\n",
    "\n",
    "lsst.observing.utils.focus.myFocusOffset = focus_offset\n",
    "\n",
    "playSound()"
   ]
  },
  {
   "cell_type": "markdown",
   "metadata": {},
   "source": [
    "At this point the grating is in and the filter is empty\n",
    "\n",
    "Ready for science!  First spectroscopy:"
   ]
  },
  {
   "cell_type": "code",
   "execution_count": null,
   "metadata": {},
   "outputs": [],
   "source": [
    "expTime = 45*expTime0\n",
    "\n",
    "await changeFilterAndGrating(attcs, latiss, filter='empty_1', grating=chosenGrating)\n",
    "await latiss.take_object(exptime=expTime, n=1)\n",
    "playSound(\"ding\")\n",
    "\n",
    "await changeFilterAndGrating(attcs, latiss, filter='quadnotch1')\n",
    "await latiss.take_object(exptime=expTime, n=1)\n",
    "playSound(\"ding\")\n",
    "\n",
    "await changeFilterAndGrating(attcs, latiss, filter='BG40')\n",
    "await latiss.take_object(exptime=expTime, n=1)\n",
    "playSound(\"ding\")\n",
    "\n",
    "await changeFilterAndGrating(attcs, latiss, filter='RG610')\n",
    "await latiss.take_object(exptime=expTime, n=1)\n",
    "\n",
    "playSound()"
   ]
  },
  {
   "cell_type": "markdown",
   "metadata": {},
   "source": [
    "And then photometry"
   ]
  },
  {
   "cell_type": "code",
   "execution_count": null,
   "metadata": {},
   "outputs": [],
   "source": [
    "for i, f in enumerate(['BG40', 'RG610']):\n",
    "    await changeFilterAndGrating(attcs, latiss, filter=f, grating='empty_1')\n",
    "\n",
    "    await latiss.take_object(exptime=3*expTime0, n=1)\n",
    "    playSound(\"ding\")\n",
    "\n",
    "    await latiss.take_object(exptime=20*expTime0, n=1)\n",
    "    playSound(None if i == 0 else \"gong\")"
   ]
  }
 ],
 "metadata": {
  "kernelspec": {
   "display_name": "rhl",
   "language": "python",
   "name": "rhl"
  },
  "language_info": {
   "codemirror_mode": {
    "name": "ipython",
    "version": 3
   },
   "file_extension": ".py",
   "mimetype": "text/x-python",
   "name": "python",
   "nbconvert_exporter": "python",
   "pygments_lexer": "ipython3",
   "version": "3.7.1"
  }
 },
 "nbformat": 4,
 "nbformat_minor": 4
}
