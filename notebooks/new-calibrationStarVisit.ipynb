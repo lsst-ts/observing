{
 "cells": [
  {
   "cell_type": "code",
   "execution_count": null,
   "metadata": {},
   "outputs": [],
   "source": [
    "import os\n",
    "import sys\n",
    "import logging\n",
    "\n",
    "import numpy as np\n",
    "\n",
    "from lsst.ts.standardscripts.auxtel.attcs import ATTCS\n",
    "from lsst.ts.standardscripts.auxtel.latiss import LATISS\n",
    "\n",
    "import lsst.observing.commands.calibrationStarVisit as calibrationStarVisit"
   ]
  },
  {
   "cell_type": "markdown",
   "metadata": {},
   "source": [
    "Make sure that logs aren't lost"
   ]
  },
  {
   "cell_type": "code",
   "execution_count": null,
   "metadata": {},
   "outputs": [],
   "source": [
    "stream_handler = logging.StreamHandler(sys.stdout)\n",
    "logger = logging.getLogger()\n",
    "logger.addHandler(stream_handler)\n",
    "logger.level = logging.ERROR"
   ]
  },
  {
   "cell_type": "code",
   "execution_count": null,
   "metadata": {},
   "outputs": [],
   "source": [
    "if True:\n",
    "    attcs = ATTCS()\n",
    "    latiss = LATISS(attcs.domain)"
   ]
  },
  {
   "cell_type": "markdown",
   "metadata": {},
   "source": [
    "Execute this block if you want to pass `display=display` to `calibrationStarVisit.takeData`"
   ]
  },
  {
   "cell_type": "code",
   "execution_count": null,
   "metadata": {},
   "outputs": [],
   "source": [
    "if False:\n",
    "    import lsst.afw.display as afwDisplay\n",
    "\n",
    "    afwDisplay.setDefaultBackend(\"matplotlib\" if False else \"firefly\")\n",
    "    os.environ['FIREFLY_URL'] = \"http://firefly01.cp.lsst.org:8080/firefly/\"\n",
    "\n",
    "    disp = afwDisplay.Display(1, name='RHL', reopenPlot=True)\n",
    "\n",
    "    if afwDisplay.getDefaultBackend() == \"firefly\":\n",
    "        disp.getClient().display_url()\n",
    "else:\n",
    "    disp = None"
   ]
  },
  {
   "cell_type": "code",
   "execution_count": null,
   "metadata": {},
   "outputs": [],
   "source": [
    "for repo in [\"/mnt/dmcs/oods_butler_repo/repo\",\n",
    "             \"/project/shared/auxTel\",\n",
    "             os.path.expanduser(\"~/Data/auxTel\" \"XX\"),\n",
    "            ]:\n",
    "    if os.path.exists(repo):\n",
    "        break\n",
    "\n",
    "print(f\"Using {repo}\")  \n",
    "repo = os.path.join(repo, \"rerun\", \"quickLook\")\n",
    "\n",
    "if os.path.exists(repo):\n",
    "    from lsst.daf.persistence import Butler\n",
    "else:\n",
    "    print(f\"I can't find {repo}; using butler emulator\")\n",
    "    from lsst.ts.standardscripts.auxtel.butler import Butler\n",
    "    \n",
    "    latiss.domain.time_per_second = 0.0\n",
    "\n",
    "butler = Butler(repo)\n",
    "dataId = dict(dayObs=\"2020-02-21\")"
   ]
  },
  {
   "cell_type": "code",
   "execution_count": null,
   "metadata": {},
   "outputs": [],
   "source": [
    "repo = \"/mnt/dmcs/oods_butler_repo/repo/rerun/quickLook\"\n",
    "\n",
    "if os.path.exists(repo):\n",
    "    from lsst.daf.persistence import Butler\n",
    "else:\n",
    "    print(f\"I can't find {repo}; using emulator\")\n",
    "    from lsst.ts.standardscripts.auxtel.butler import Butler\n",
    "    \n",
    "    latiss.domain.time_per_second = 0.0\n",
    "\n",
    "butler = Butler(repo)\n",
    "dataId = dict(dayObs=\"2020-02-21\")\n",
    "\n",
    "obslog = logging.getLogger()\n",
    "obslog.setLevel(logging.INFO)"
   ]
  },
  {
   "cell_type": "markdown",
   "metadata": {},
   "source": [
    "N.b. If `doPointingModel` and we don't have a pointing model, exec the next cell"
   ]
  },
  {
   "cell_type": "code",
   "execution_count": null,
   "metadata": {},
   "outputs": [],
   "source": [
    "if False:\n",
    "    await attcs.atptg.cmd_pointNewFile.start()"
   ]
  },
  {
   "cell_type": "markdown",
   "metadata": {},
   "source": [
    "Take a standard set of exposures of a star"
   ]
  },
  {
   "cell_type": "code",
   "execution_count": null,
   "metadata": {},
   "outputs": [],
   "source": [
    "if True:\n",
    "    objectName = \"HD 185975\"    # pole\n",
    "else:\n",
    "    objectName = \"HD 146233\"\n",
    "\n",
    "expTime0 = await calibrationStarVisit.takeData(attcs, latiss, butler,\n",
    "                                               objectName, doPointingModel=True, logger=obslog, silent=True)"
   ]
  },
  {
   "cell_type": "markdown",
   "metadata": {},
   "source": [
    "Define our own set of exposures and take them"
   ]
  },
  {
   "cell_type": "code",
   "execution_count": null,
   "metadata": {},
   "outputs": [],
   "source": [
    "exposures = [\n",
    "    ('empty_1',    45, 'ronchi90lpmm'),\n",
    "    ('quadnotch1', 45,           None),\n",
    "]\n",
    "\n",
    "await calibrationStarVisit.takeData(attcs, latiss, butler,\n",
    "                                    objectName, exposures, updateFocus=False,\n",
    "                                    logger=obslog, display=disp)"
   ]
  }
 ],
 "metadata": {
  "kernelspec": {
   "display_name": "rhl",
   "language": "python",
   "name": "rhl"
  },
  "language_info": {
   "codemirror_mode": {
    "name": "ipython",
    "version": 3
   },
   "file_extension": ".py",
   "mimetype": "text/x-python",
   "name": "python",
   "nbconvert_exporter": "python",
   "pygments_lexer": "ipython3",
   "version": "3.7.1"
  }
 },
 "nbformat": 4,
 "nbformat_minor": 4
}
