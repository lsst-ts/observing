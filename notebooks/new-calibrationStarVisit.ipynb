{
 "cells": [
  {
   "cell_type": "code",
   "execution_count": null,
   "metadata": {},
   "outputs": [],
   "source": [
    "import os\n",
    "import sys\n",
    "import logging\n",
    "\n",
    "import numpy as np\n",
    "\n",
    "from lsst.ts.standardscripts.auxtel.attcs import ATTCS\n",
    "from lsst.ts.standardscripts.auxtel.latiss import LATISS\n",
    "\n",
    "import lsst.observing.commands.calibrationStarVisit as calibrationStarVisit"
   ]
  },
  {
   "cell_type": "code",
   "execution_count": null,
   "metadata": {},
   "outputs": [],
   "source": [
    "# Temporarily needed to run on summit netowork as of 2020-03-13\n",
    "# MAKE SURE TO CHANGE THE USERNAME BELOW!\n",
    "import os\n",
    "os.environ[\"LSST_DDS_DOMAIN\"] = 'lsatmcs'\n",
    "os.environ[\"OSPL_URI\"] = \"file:///home/patrickingraham/ospl.xml\""
   ]
  },
  {
   "cell_type": "markdown",
   "metadata": {},
   "source": [
    "Make sure that logs aren't lost"
   ]
  },
  {
   "cell_type": "code",
   "execution_count": null,
   "metadata": {},
   "outputs": [],
   "source": [
    "stream_handler = logging.StreamHandler(sys.stdout)\n",
    "logger = logging.getLogger()\n",
    "logger.addHandler(stream_handler)\n",
    "logger.level = logging.ERROR"
   ]
  },
  {
   "cell_type": "code",
   "execution_count": null,
   "metadata": {},
   "outputs": [],
   "source": [
    "if True:\n",
    "    attcs = ATTCS()\n",
    "    latiss = LATISS(attcs.domain)"
   ]
  },
  {
   "cell_type": "markdown",
   "metadata": {},
   "source": [
    "Execute this block if you want to pass `display=display` to `calibrationStarVisit.takeData`"
   ]
  },
  {
   "cell_type": "code",
   "execution_count": null,
   "metadata": {},
   "outputs": [],
   "source": [
    "if False:\n",
    "    import lsst.afw.display as afwDisplay\n",
    "\n",
    "    afwDisplay.setDefaultBackend(\"matplotlib\" if False else \"firefly\")\n",
    "    os.environ['FIREFLY_URL'] = \"http://firefly01.cp.lsst.org:8080/firefly/\"\n",
    "\n",
    "    disp = afwDisplay.Display(1, name='pingraham', reopenPlot=True)\n",
    "\n",
    "    if afwDisplay.getDefaultBackend() == \"firefly\":\n",
    "        disp.getClient().display_url()\n",
    "else:\n",
    "    disp = None"
   ]
  },
  {
   "cell_type": "code",
   "execution_count": 1,
   "metadata": {},
   "outputs": [
    {
     "ename": "NameError",
     "evalue": "name 'os' is not defined",
     "output_type": "error",
     "traceback": [
      "\u001b[0;31m---------------------------------------------------------------------------\u001b[0m",
      "\u001b[0;31mNameError\u001b[0m                                 Traceback (most recent call last)",
      "\u001b[0;32m<ipython-input-1-de3ec3cce7eb>\u001b[0m in \u001b[0;36m<module>\u001b[0;34m\u001b[0m\n\u001b[1;32m      1\u001b[0m \u001b[0mrepo\u001b[0m \u001b[0;34m=\u001b[0m \u001b[0;34m\"/project/shared/auxTel/rerun/quickLook\"\u001b[0m\u001b[0;34m\u001b[0m\u001b[0;34m\u001b[0m\u001b[0m\n\u001b[1;32m      2\u001b[0m \u001b[0;34m\u001b[0m\u001b[0m\n\u001b[0;32m----> 3\u001b[0;31m \u001b[0;32mif\u001b[0m \u001b[0mos\u001b[0m\u001b[0;34m.\u001b[0m\u001b[0mpath\u001b[0m\u001b[0;34m.\u001b[0m\u001b[0mexists\u001b[0m\u001b[0;34m(\u001b[0m\u001b[0mrepo\u001b[0m\u001b[0;34m)\u001b[0m\u001b[0;34m:\u001b[0m\u001b[0;34m\u001b[0m\u001b[0;34m\u001b[0m\u001b[0m\n\u001b[0m\u001b[1;32m      4\u001b[0m     \u001b[0;32mfrom\u001b[0m \u001b[0mlsst\u001b[0m\u001b[0;34m.\u001b[0m\u001b[0mdaf\u001b[0m\u001b[0;34m.\u001b[0m\u001b[0mpersistence\u001b[0m \u001b[0;32mimport\u001b[0m \u001b[0mButler\u001b[0m\u001b[0;34m\u001b[0m\u001b[0;34m\u001b[0m\u001b[0m\n\u001b[1;32m      5\u001b[0m \u001b[0;32melse\u001b[0m\u001b[0;34m:\u001b[0m\u001b[0;34m\u001b[0m\u001b[0;34m\u001b[0m\u001b[0m\n",
      "\u001b[0;31mNameError\u001b[0m: name 'os' is not defined"
     ]
    }
   ],
   "source": [
    "repo = \"/project/shared/auxTel/rerun/quickLook\"\n",
    "\n",
    "if os.path.exists(repo):\n",
    "    from lsst.daf.persistence import Butler\n",
    "else:\n",
    "    print(f\"I can't find {repo}; using emulator\")\n",
    "    from lsst.ts.standardscripts.auxtel.butler import Butler\n",
    "    \n",
    "    latiss.domain.time_per_second = 0.0\n",
    "\n",
    "butler = Butler(repo)\n",
    "dataId = dict(dayObs=\"2020-03-12\")\n",
    "\n",
    "obslog = logging.getLogger()\n",
    "obslog.setLevel(logging.INFO)"
   ]
  },
  {
   "cell_type": "markdown",
   "metadata": {},
   "source": [
    "N.b. If `doPointingModel` and we don't have a pointing model, exec the next cell"
   ]
  },
  {
   "cell_type": "code",
   "execution_count": null,
   "metadata": {},
   "outputs": [],
   "source": [
    "if False:\n",
    "    await attcs.atptg.cmd_pointNewFile.start()"
   ]
  },
  {
   "cell_type": "markdown",
   "metadata": {},
   "source": [
    "#### Example of slewing to target, taking an quick image and putting it on the sweetspot\n",
    "##### Note that the sweetspot has to be declared in constants.py for the given grating setup"
   ]
  },
  {
   "cell_type": "code",
   "execution_count": null,
   "metadata": {},
   "outputs": [],
   "source": [
    "exposures = [('empty_1', 5, 'empty_1')]  # This will just put the data on the sweetspot\n",
    "\n",
    "objectName = 'HD 146233'\n",
    "await calibrationStarVisit.takeData(attcs, latiss, butler,\n",
    "                                    objectName, exposures, updateFocus=False,\n",
    "                                    logger=obslog, display=disp,\n",
    "                                    doPointingModel=False)"
   ]
  },
  {
   "cell_type": "code",
   "execution_count": null,
   "metadata": {},
   "outputs": [],
   "source": []
  },
  {
   "cell_type": "code",
   "execution_count": null,
   "metadata": {},
   "outputs": [],
   "source": [
    "# to try to grab it manually after seeing:\n",
    "# NoResults: No locations for get: datasetType:quickLookExp dataId:DataId(initialdata={'dayObs': '2020-03-12', 'seqNum': 145}, tag=set())\n",
    "# to try to grab it manually \n",
    "#butler.get('quickLookExp', dayObs='2020-03-12', seqNum= 145)"
   ]
  },
  {
   "cell_type": "markdown",
   "metadata": {},
   "source": [
    "#### Take a standard set of exposures of a star"
   ]
  },
  {
   "cell_type": "code",
   "execution_count": null,
   "metadata": {},
   "outputs": [],
   "source": [
    "if True:\n",
    "    objectName = \"HD 185975\"    # pole\n",
    "else:\n",
    "    objectName = \"HD 146233\"\n",
    "\n",
    "expTime0 = await calibrationStarVisit.takeData(attcs, latiss, butler,\n",
    "                                               objectName, doPointingModel=True, logger=obslog, silent=True)"
   ]
  },
  {
   "cell_type": "markdown",
   "metadata": {},
   "source": [
    "#### Define our own set of exposures and take them"
   ]
  },
  {
   "cell_type": "code",
   "execution_count": null,
   "metadata": {},
   "outputs": [],
   "source": [
    "exposures = [\n",
    "    ('empty_1',    45, 'ronchi90lpmm'),\n",
    "    ('quadnotch1', 45,           None),\n",
    "]\n",
    "\n",
    "await calibrationStarVisit.takeData(attcs, latiss, butler,\n",
    "                                    objectName, exposures, updateFocus=False,\n",
    "                                    logger=obslog, display=disp)"
   ]
  }
 ],
 "metadata": {
  "kernelspec": {
   "display_name": "LSST",
   "language": "python",
   "name": "lsst"
  },
  "language_info": {
   "codemirror_mode": {
    "name": "ipython",
    "version": 3
   },
   "file_extension": ".py",
   "mimetype": "text/x-python",
   "name": "python",
   "nbconvert_exporter": "python",
   "pygments_lexer": "ipython3",
   "version": "3.7.6"
  }
 },
 "nbformat": 4,
 "nbformat_minor": 4
}
